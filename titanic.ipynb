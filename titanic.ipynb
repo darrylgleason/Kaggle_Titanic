{
 "cells": [
  {
   "cell_type": "markdown",
   "metadata": {
    "collapsed": true
   },
   "source": [
    "# Import appropriate packages and set analysis options."
   ]
  },
  {
   "cell_type": "code",
   "execution_count": 1,
   "metadata": {
    "collapsed": true
   },
   "outputs": [],
   "source": [
    "import numpy as np\n",
    "import pandas as pd\n",
    "import matplotlib.pyplot as plt\n",
    "plt.style.use('ggplot') \n",
    "import seaborn as sns\n",
    "sns.set(color_codes=True)\n",
    "from sklearn import linear_model, preprocessing\n",
    "from sklearn.metrics import mean_absolute_error, mean_squared_error, r2_score\n",
    "from sklearn.model_selection import cross_val_score, train_test_split\n",
    "from IPython.core.interactiveshell import InteractiveShell\n",
    "from math import sqrt\n",
    "from scipy import stats\n",
    "from sklearn.model_selection import GridSearchCV\n",
    "from sklearn.model_selection import RandomizedSearchCV\n",
    "\n",
    "# Setting save_predicted_data to True\n",
    "# will cause the notebook to save data\n",
    "# in one of the last notebook cells.\n",
    "# The data will be saved to the path\n",
    "# specified by MY_PREDICTED_DATA_PATH.\n",
    "save_predicted_data = False\n",
    "\n",
    "# As expected, setting print_all_output\n",
    "# to True will cause each evaluation in a\n",
    "# a cell to be displayed. This has the\n",
    "# unfortunate side-effect of preventing the\n",
    "# ';' operator from silencing output.\n",
    "# If this boolean is set to False, then\n",
    "# only the last item in each cell may\n",
    "# be output.\n",
    "print_all_output = False\n",
    "InteractiveShell.ast_node_interactivity = 'all' if print_all_output else 'last_expr'\n",
    "\n",
    "# Setting randomize_seeding to True will\n",
    "# randomize various operations throughout\n",
    "# the notebook. Setting it to False will\n",
    "# cause the seed to remain fixed to some\n",
    "# specified value such that the notebook\n",
    "# can be reran with the same randomized\n",
    "# variables (see MAGIC_SEED below).\n",
    "randomize_seeding = False"
   ]
  },
  {
   "cell_type": "markdown",
   "metadata": {},
   "source": [
    "# Define convenient variables and functions."
   ]
  },
  {
   "cell_type": "code",
   "execution_count": 2,
   "metadata": {
    "collapsed": true
   },
   "outputs": [],
   "source": [
    "# These paths indicate from where the training,\n",
    "# test, and prediction data will be loaded/saved.\n",
    "TRAINING_DATA_PATH = \"./data/train.csv\"\n",
    "TEST_DATA_PATH = \"./data/test.csv\"\n",
    "MY_PREDICTED_DATA_PATH = \"./data/my_predicted_survivors.csv\"\n",
    "\n",
    "# The MAGIC_SEED optionally specifies a fixed\n",
    "# random state/seed so that the notebook can be\n",
    "# reran with the same randomized variables (see\n",
    "# randomize_seeding above).\n",
    "MAGIC_SEED = 1776\n",
    "if (randomize_seeding):\n",
    "    MAGIC_SEED = np.random.seed()\n",
    "\n",
    "# The training data provided with this data\n",
    "# set will be split into two subsets so that\n",
    "# models can be trained on the first and tested\n",
    "# on the second. TRAINING_DATA_TEST_SIZE\n",
    "# indicates the proportion of the training\n",
    "# data that will be used as test data for\n",
    "# model evaluation and should be in the\n",
    "# range [0.0, 1.0].\n",
    "TRAINING_DATA_TEST_SIZE = 0.10\n",
    "\n",
    "def load_data(path, index_column):\n",
    "    \"\"\"\n",
    "    Load the file at 'path' into a Pandas\n",
    "    DataFrame.\n",
    "    \"\"\"\n",
    "    df = pd.read_csv(path, header=0, index_col=index_column)\n",
    "    print(\"Loaded data dimensions: \", df.shape[0], \"rows, \", df.shape[1], \"columns\")\n",
    "    return df\n",
    "\n",
    "def print_nan(nan_cols_counts, col_type):\n",
    "    \"\"\"\n",
    "    Print each element of the list which should contain\n",
    "    a DataFrame feature name and an int number of times\n",
    "    the feature contains an NaN value.\n",
    "    \"\"\"\n",
    "    print(\"\\n\", len(nan_cols_counts), \" \", col_type, \"-type columns with NaN values.\", sep='')\n",
    "    if(len(nan_cols_counts) > 0):\n",
    "        print(\"    {:<16}{}\".format(\"Feature\", \"NaN Count\"))\n",
    "        print(\"%s\" % \"    ---------------------\")\n",
    "    for index, element in enumerate(nan_cols_counts):\n",
    "        print(\"{:>2}. {:<16}{}\".format(index+1, element[0], element[1]))\n",
    "        \n",
    "def gather_nan(df, col_type, print_if_nan = True):\n",
    "    \"\"\"\n",
    "    Find all DataFrame columns of type 'col_type'\n",
    "    which contain NaN values.\n",
    "    \"\"\"\n",
    "    if (col_type == \"int\"):\n",
    "        columns = df.select_dtypes(include=['int']).columns\n",
    "    elif (col_type == \"float\"):\n",
    "        columns = df.select_dtypes(include=['float']).columns\n",
    "    else:\n",
    "        columns = df.select_dtypes(include=['object']).columns\n",
    "    nan_cols_counts = []\n",
    "    for col in np.sort(columns):\n",
    "        num_nan = np.sum(df[col].isnull())\n",
    "        if (num_nan > 0):\n",
    "            nan_cols_counts.append((col, num_nan))\n",
    "    if (print_nan):\n",
    "        print_nan(nan_cols_counts, col_type)\n",
    "    return nan_cols_counts\n",
    "            \n",
    "def replace_with_normal(df, col, seed = np.random.seed()):\n",
    "    \"\"\"\n",
    "    Replace NaN values in a DataFrame column with\n",
    "    values chosen from a normal distribution with\n",
    "    a mean and standard deviation equal to the\n",
    "    that of the non-NaN data.\n",
    "    \"\"\"\n",
    "    np.random.seed(seed)\n",
    "    df_dropped = df[col].dropna()\n",
    "    mu = np.mean(df_dropped)\n",
    "    sigma = np.std(df_dropped)\n",
    "    null_rows = df[col].isnull()\n",
    "    num_nan = np.sum(null_rows)\n",
    "    rand_vals = np.random.normal(mu, sigma, num_nan)\n",
    "    df.loc[null_rows, col] = rand_vals\n",
    "    \n",
    "def most_common_label(df, col):\n",
    "    \"\"\"\n",
    "    Determine the most fequent label for\n",
    "    categorical data.\n",
    "    \"\"\"\n",
    "    most_common_appearances = 0\n",
    "    most_common_label = \"\"\n",
    "    for label in df[col].unique():\n",
    "        num_appearances = np.sum(df[col] == label)\n",
    "        if (num_appearances > most_common_appearances):\n",
    "            most_common_appearances = num_appearances\n",
    "            most_common_label = label\n",
    "    return most_common_label\n",
    "\n",
    "def evaluate_model(x_train, y_train, model):\n",
    "    \"\"\"\n",
    "    Given an input model and training data,\n",
    "    split the data into training/testing subsets\n",
    "    and use this to produce a fit and predictions.\n",
    "    Indicate the goodness of the fit and plot\n",
    "    the results.\n",
    "    \"\"\"\n",
    "    # Split the training data into two subsets.\n",
    "    # Then, train the model on the target data\n",
    "    # and use it to predict home prices.\n",
    "    x_train1, x_train2, y_train1, y_train2 = train_test_split(\n",
    "        x_train, y_train,\n",
    "        test_size=TRAINING_DATA_TEST_SIZE,\n",
    "        random_state=MAGIC_SEED)\n",
    "    model.fit(x_train1, y_train1)\n",
    "    y_train2_pred = model.predict(x_train2)\n",
    "    \n",
    "    # Evaluate the model & predictions by viewing\n",
    "    # the cross-validation score, error, and\n",
    "    # variance (where a variance of 1 indicates\n",
    "    # a perfect prediction) and plotting the results.\n",
    "    print(\"When using %0.1f%% of the training data to perform the\"\n",
    "        \" fit and %0.1f%% of the training data to make the prediction,\"\n",
    "        \" the model performed according to the following:\"\n",
    "        % (100.0*(1.0-TRAINING_DATA_TEST_SIZE), 100.0*TRAINING_DATA_TEST_SIZE))\n",
    "    print(cross_val_score(model, x_train1, y_train1, cv=5))\n",
    "    print(\"RMS Error: %.3f\"\n",
    "        % sqrt(mean_squared_error(y_train2, y_train2_pred)))\n",
    "    print('Variance score: %.3f' % r2_score(y_train2, y_train2_pred))\n",
    "#    plt.hist(y_train2, bins=2, color='red')\n",
    "#    plt.hist(y_train2_pred, bins=2, histtype='step', color='black')\n",
    "    x = np.arange(4)\n",
    "    y = [y_train2.tolist().count(1), y_train2_pred.tolist().count(1),\n",
    "         y_train2.tolist().count(0), y_train2_pred.tolist().count(0)]\n",
    "    colors = (\"green\", \"cyan\", \"red\", \"magenta\")\n",
    "    plt.bar(x, y, color=colors)\n",
    "    plt.xticks(x, (\"True Survival\", \"Pred. Survival\",\n",
    "        \"True Decease\", \"Pred. Decease\"))\n",
    "    plt.show()\n",
    "    \n",
    "    # Finalize the model by fitting it to the entire data set.\n",
    "    model.fit(x_train, y_train)\n",
    "    \n",
    "def most_important_features(df, feature_importances, num_features):\n",
    "    \"\"\"\n",
    "    Select and pritn out the N most important features used\n",
    "    in the model to make predictions.\n",
    "    \"\"\"\n",
    "    importances = model.feature_importances_\n",
    "    sorted_indices = np.argsort(importances)[::-1].tolist()\n",
    "    top_n_indices = sorted_indices[:5]\n",
    "    print(\"The %d most important features for this model:\" % num_features)\n",
    "    for ii, index in enumerate(top_n_indices):\n",
    "        print(\"%d. %s\" % (ii+1, df.columns[index]))\n",
    "\n",
    "def encode(df):\n",
    "    \"\"\"\n",
    "    Convert categorical labels to ints.\n",
    "    \"\"\"\n",
    "    label_encoder = preprocessing.LabelEncoder()\n",
    "    encoded_label_groups = []\n",
    "    for col in df.select_dtypes(include=['object']).columns:\n",
    "        label_encoder.fit(df[col].unique());\n",
    "        encoded_label_groups.append(label_encoder.classes_.tolist())\n",
    "        df.loc[:, col] = label_encoder.transform(df[col]);\n",
    "    return encoded_label_groups"
   ]
  },
  {
   "cell_type": "markdown",
   "metadata": {},
   "source": [
    "# Load and preview the passenger training data."
   ]
  },
  {
   "cell_type": "code",
   "execution_count": 3,
   "metadata": {},
   "outputs": [
    {
     "name": "stdout",
     "output_type": "stream",
     "text": [
      "Loaded data dimensions:  891 rows,  11 columns\n"
     ]
    },
    {
     "data": {
      "text/html": [
       "<div>\n",
       "<style scoped>\n",
       "    .dataframe tbody tr th:only-of-type {\n",
       "        vertical-align: middle;\n",
       "    }\n",
       "\n",
       "    .dataframe tbody tr th {\n",
       "        vertical-align: top;\n",
       "    }\n",
       "\n",
       "    .dataframe thead th {\n",
       "        text-align: right;\n",
       "    }\n",
       "</style>\n",
       "<table border=\"1\" class=\"dataframe\">\n",
       "  <thead>\n",
       "    <tr style=\"text-align: right;\">\n",
       "      <th></th>\n",
       "      <th>Survived</th>\n",
       "      <th>Pclass</th>\n",
       "      <th>Name</th>\n",
       "      <th>Sex</th>\n",
       "      <th>Age</th>\n",
       "      <th>SibSp</th>\n",
       "      <th>Parch</th>\n",
       "      <th>Ticket</th>\n",
       "      <th>Fare</th>\n",
       "      <th>Cabin</th>\n",
       "      <th>Embarked</th>\n",
       "    </tr>\n",
       "    <tr>\n",
       "      <th>PassengerId</th>\n",
       "      <th></th>\n",
       "      <th></th>\n",
       "      <th></th>\n",
       "      <th></th>\n",
       "      <th></th>\n",
       "      <th></th>\n",
       "      <th></th>\n",
       "      <th></th>\n",
       "      <th></th>\n",
       "      <th></th>\n",
       "      <th></th>\n",
       "    </tr>\n",
       "  </thead>\n",
       "  <tbody>\n",
       "    <tr>\n",
       "      <th>1</th>\n",
       "      <td>0</td>\n",
       "      <td>3</td>\n",
       "      <td>Braund, Mr. Owen Harris</td>\n",
       "      <td>male</td>\n",
       "      <td>22.0</td>\n",
       "      <td>1</td>\n",
       "      <td>0</td>\n",
       "      <td>A/5 21171</td>\n",
       "      <td>7.2500</td>\n",
       "      <td>NaN</td>\n",
       "      <td>S</td>\n",
       "    </tr>\n",
       "    <tr>\n",
       "      <th>2</th>\n",
       "      <td>1</td>\n",
       "      <td>1</td>\n",
       "      <td>Cumings, Mrs. John Bradley (Florence Briggs Th...</td>\n",
       "      <td>female</td>\n",
       "      <td>38.0</td>\n",
       "      <td>1</td>\n",
       "      <td>0</td>\n",
       "      <td>PC 17599</td>\n",
       "      <td>71.2833</td>\n",
       "      <td>C85</td>\n",
       "      <td>C</td>\n",
       "    </tr>\n",
       "    <tr>\n",
       "      <th>3</th>\n",
       "      <td>1</td>\n",
       "      <td>3</td>\n",
       "      <td>Heikkinen, Miss. Laina</td>\n",
       "      <td>female</td>\n",
       "      <td>26.0</td>\n",
       "      <td>0</td>\n",
       "      <td>0</td>\n",
       "      <td>STON/O2. 3101282</td>\n",
       "      <td>7.9250</td>\n",
       "      <td>NaN</td>\n",
       "      <td>S</td>\n",
       "    </tr>\n",
       "    <tr>\n",
       "      <th>4</th>\n",
       "      <td>1</td>\n",
       "      <td>1</td>\n",
       "      <td>Futrelle, Mrs. Jacques Heath (Lily May Peel)</td>\n",
       "      <td>female</td>\n",
       "      <td>35.0</td>\n",
       "      <td>1</td>\n",
       "      <td>0</td>\n",
       "      <td>113803</td>\n",
       "      <td>53.1000</td>\n",
       "      <td>C123</td>\n",
       "      <td>S</td>\n",
       "    </tr>\n",
       "    <tr>\n",
       "      <th>5</th>\n",
       "      <td>0</td>\n",
       "      <td>3</td>\n",
       "      <td>Allen, Mr. William Henry</td>\n",
       "      <td>male</td>\n",
       "      <td>35.0</td>\n",
       "      <td>0</td>\n",
       "      <td>0</td>\n",
       "      <td>373450</td>\n",
       "      <td>8.0500</td>\n",
       "      <td>NaN</td>\n",
       "      <td>S</td>\n",
       "    </tr>\n",
       "  </tbody>\n",
       "</table>\n",
       "</div>"
      ],
      "text/plain": [
       "             Survived  Pclass  \\\n",
       "PassengerId                     \n",
       "1                   0       3   \n",
       "2                   1       1   \n",
       "3                   1       3   \n",
       "4                   1       1   \n",
       "5                   0       3   \n",
       "\n",
       "                                                          Name     Sex   Age  \\\n",
       "PassengerId                                                                    \n",
       "1                                      Braund, Mr. Owen Harris    male  22.0   \n",
       "2            Cumings, Mrs. John Bradley (Florence Briggs Th...  female  38.0   \n",
       "3                                       Heikkinen, Miss. Laina  female  26.0   \n",
       "4                 Futrelle, Mrs. Jacques Heath (Lily May Peel)  female  35.0   \n",
       "5                                     Allen, Mr. William Henry    male  35.0   \n",
       "\n",
       "             SibSp  Parch            Ticket     Fare Cabin Embarked  \n",
       "PassengerId                                                          \n",
       "1                1      0         A/5 21171   7.2500   NaN        S  \n",
       "2                1      0          PC 17599  71.2833   C85        C  \n",
       "3                0      0  STON/O2. 3101282   7.9250   NaN        S  \n",
       "4                1      0            113803  53.1000  C123        S  \n",
       "5                0      0            373450   8.0500   NaN        S  "
      ]
     },
     "execution_count": 3,
     "metadata": {},
     "output_type": "execute_result"
    }
   ],
   "source": [
    "df = load_data(TRAINING_DATA_PATH, 'PassengerId')\n",
    "df.head()"
   ]
  },
  {
   "cell_type": "code",
   "execution_count": 4,
   "metadata": {},
   "outputs": [
    {
     "data": {
      "text/html": [
       "<div>\n",
       "<style scoped>\n",
       "    .dataframe tbody tr th:only-of-type {\n",
       "        vertical-align: middle;\n",
       "    }\n",
       "\n",
       "    .dataframe tbody tr th {\n",
       "        vertical-align: top;\n",
       "    }\n",
       "\n",
       "    .dataframe thead th {\n",
       "        text-align: right;\n",
       "    }\n",
       "</style>\n",
       "<table border=\"1\" class=\"dataframe\">\n",
       "  <thead>\n",
       "    <tr style=\"text-align: right;\">\n",
       "      <th></th>\n",
       "      <th>Survived</th>\n",
       "      <th>Pclass</th>\n",
       "      <th>Age</th>\n",
       "      <th>SibSp</th>\n",
       "      <th>Parch</th>\n",
       "      <th>Fare</th>\n",
       "    </tr>\n",
       "  </thead>\n",
       "  <tbody>\n",
       "    <tr>\n",
       "      <th>count</th>\n",
       "      <td>891.000000</td>\n",
       "      <td>891.000000</td>\n",
       "      <td>714.000000</td>\n",
       "      <td>891.000000</td>\n",
       "      <td>891.000000</td>\n",
       "      <td>891.000000</td>\n",
       "    </tr>\n",
       "    <tr>\n",
       "      <th>mean</th>\n",
       "      <td>0.383838</td>\n",
       "      <td>2.308642</td>\n",
       "      <td>29.699118</td>\n",
       "      <td>0.523008</td>\n",
       "      <td>0.381594</td>\n",
       "      <td>32.204208</td>\n",
       "    </tr>\n",
       "    <tr>\n",
       "      <th>std</th>\n",
       "      <td>0.486592</td>\n",
       "      <td>0.836071</td>\n",
       "      <td>14.526497</td>\n",
       "      <td>1.102743</td>\n",
       "      <td>0.806057</td>\n",
       "      <td>49.693429</td>\n",
       "    </tr>\n",
       "    <tr>\n",
       "      <th>min</th>\n",
       "      <td>0.000000</td>\n",
       "      <td>1.000000</td>\n",
       "      <td>0.420000</td>\n",
       "      <td>0.000000</td>\n",
       "      <td>0.000000</td>\n",
       "      <td>0.000000</td>\n",
       "    </tr>\n",
       "    <tr>\n",
       "      <th>25%</th>\n",
       "      <td>0.000000</td>\n",
       "      <td>2.000000</td>\n",
       "      <td>20.125000</td>\n",
       "      <td>0.000000</td>\n",
       "      <td>0.000000</td>\n",
       "      <td>7.910400</td>\n",
       "    </tr>\n",
       "    <tr>\n",
       "      <th>50%</th>\n",
       "      <td>0.000000</td>\n",
       "      <td>3.000000</td>\n",
       "      <td>28.000000</td>\n",
       "      <td>0.000000</td>\n",
       "      <td>0.000000</td>\n",
       "      <td>14.454200</td>\n",
       "    </tr>\n",
       "    <tr>\n",
       "      <th>75%</th>\n",
       "      <td>1.000000</td>\n",
       "      <td>3.000000</td>\n",
       "      <td>38.000000</td>\n",
       "      <td>1.000000</td>\n",
       "      <td>0.000000</td>\n",
       "      <td>31.000000</td>\n",
       "    </tr>\n",
       "    <tr>\n",
       "      <th>max</th>\n",
       "      <td>1.000000</td>\n",
       "      <td>3.000000</td>\n",
       "      <td>80.000000</td>\n",
       "      <td>8.000000</td>\n",
       "      <td>6.000000</td>\n",
       "      <td>512.329200</td>\n",
       "    </tr>\n",
       "  </tbody>\n",
       "</table>\n",
       "</div>"
      ],
      "text/plain": [
       "         Survived      Pclass         Age       SibSp       Parch        Fare\n",
       "count  891.000000  891.000000  714.000000  891.000000  891.000000  891.000000\n",
       "mean     0.383838    2.308642   29.699118    0.523008    0.381594   32.204208\n",
       "std      0.486592    0.836071   14.526497    1.102743    0.806057   49.693429\n",
       "min      0.000000    1.000000    0.420000    0.000000    0.000000    0.000000\n",
       "25%      0.000000    2.000000   20.125000    0.000000    0.000000    7.910400\n",
       "50%      0.000000    3.000000   28.000000    0.000000    0.000000   14.454200\n",
       "75%      1.000000    3.000000   38.000000    1.000000    0.000000   31.000000\n",
       "max      1.000000    3.000000   80.000000    8.000000    6.000000  512.329200"
      ]
     },
     "execution_count": 4,
     "metadata": {},
     "output_type": "execute_result"
    }
   ],
   "source": [
    "df.describe()"
   ]
  },
  {
   "cell_type": "markdown",
   "metadata": {},
   "source": [
    "# Clean and process the training data."
   ]
  },
  {
   "cell_type": "code",
   "execution_count": 5,
   "metadata": {},
   "outputs": [
    {
     "name": "stdout",
     "output_type": "stream",
     "text": [
      "\n",
      "0 int-type columns with NaN values.\n",
      "\n",
      "1 float-type columns with NaN values.\n",
      "    Feature         NaN Count\n",
      "    ---------------------\n",
      " 1. Age             177\n",
      "\n",
      "2 string-type columns with NaN values.\n",
      "    Feature         NaN Count\n",
      "    ---------------------\n",
      " 1. Cabin           687\n",
      " 2. Embarked        2\n"
     ]
    }
   ],
   "source": [
    "# Partition data into features (X-data) and\n",
    "# targets (Y-data).\n",
    "x_train = df.iloc[:,1:]\n",
    "y_train = df.iloc[:,0]\n",
    "\n",
    "# Determine which features have missing values.\n",
    "nan_int_cols = gather_nan(x_train, \"int\")\n",
    "nan_float_cols = gather_nan(x_train, \"float\")\n",
    "nan_string_cols = gather_nan(x_train, \"string\")"
   ]
  },
  {
   "cell_type": "code",
   "execution_count": 6,
   "metadata": {},
   "outputs": [
    {
     "data": {
      "image/png": "[encoded data removed]",
      "text/plain": [
       "<matplotlib.figure.Figure at 0x7f5e52904e48>"
      ]
     },
     "metadata": {},
     "output_type": "display_data"
    }
   ],
   "source": [
    "# First, determine how the Age data is distributed.\n",
    "x_age = x_train['Age'].dropna().tolist()\n",
    "mu_age = np.mean(x_age)\n",
    "sigma_age = np.std(x_age)\n",
    "\n",
    "# Generate age samples using the age data's\n",
    "# average and standard deviation. Graphically\n",
    "# compare the real and fabricated data (normalized\n",
    "# for easy comparison).\n",
    "x_age_generated = np.random.normal(mu_age, sigma_age, len(x_age))\n",
    "\n",
    "# Set all ages below zero to zero.\n",
    "x_age_generated[(x_age_generated <= 0)] = 0\n",
    "plt.hist(x_age, bins=20, color='red', normed=0)\n",
    "plt.hist(x_age_generated, bins=20, histtype='step', color='black', normed=0)\n",
    "plt.xlabel(\"Age\")\n",
    "plt.ylabel(\"Frequency\")\n",
    "plt.legend((\"True Age Data\", \"Generated Age Data\"))\n",
    "plt.show()"
   ]
  },
  {
   "cell_type": "markdown",
   "metadata": {},
   "source": [
    "### Visually, the data distributions appear only mildly resemblant. Directly test whether the age data is normal by testing the similarity between the true and fabricated data distributions."
   ]
  },
  {
   "cell_type": "code",
   "execution_count": 7,
   "metadata": {},
   "outputs": [
    {
     "data": {
      "text/plain": [
       "Ks_2sampResult(statistic=0.091036414565826285, pvalue=0.0049751885579257787)"
      ]
     },
     "execution_count": 7,
     "metadata": {},
     "output_type": "execute_result"
    }
   ],
   "source": [
    "# Test whether these data sets have similar\n",
    "# distributions using the Kolmogorov-Smirnov\n",
    "# test. A large p-value (e.g. > 0.05) indicates\n",
    "# that the distributions are similar enough to\n",
    "# warrant considering them the same.\n",
    "stats.ks_2samp(x_age, x_age_generated)"
   ]
  },
  {
   "cell_type": "markdown",
   "metadata": {},
   "source": [
    "### The Kolmogorov-Smirnov test tends to indicate that the age data is not normally distributed."
   ]
  },
  {
   "cell_type": "code",
   "execution_count": 8,
   "metadata": {
    "scrolled": false
   },
   "outputs": [],
   "source": [
    "# Contrary to the above K-S test, as an approximation, assume\n",
    "# the age data is normally distributed and replace all NaN\n",
    "# values with values randomly selected from a normal\n",
    "# distribution with the same mean and standard deviation\n",
    "# as the non-NaN value data.\n",
    "replace_with_normal(x_train, 'Age', MAGIC_SEED)\n",
    "\n",
    "# Set all ages below zero to zero (a consequence of choosing\n",
    "# ages from a normal distribution).\n",
    "x_train.loc[x_train['Age'] < 0, 'Age'] = 0.0"
   ]
  },
  {
   "cell_type": "code",
   "execution_count": 9,
   "metadata": {},
   "outputs": [
    {
     "name": "stdout",
     "output_type": "stream",
     "text": [
      "Out of 891 instances, 687 have missing Cabin information; dropping this feature.\n"
     ]
    }
   ],
   "source": [
    "# The 'Cabin' feature is very sparse, so drop\n",
    "# this feature since it can provide only very\n",
    "# limited information.\n",
    "print(\"Out of %d instances, %d have missing Cabin information; dropping this feature.\"\n",
    "      % (df.shape[0], sum(x_train['Cabin'].isna())))\n",
    "x_train.drop('Cabin', axis='columns', inplace=True)"
   ]
  },
  {
   "cell_type": "code",
   "execution_count": 10,
   "metadata": {},
   "outputs": [],
   "source": [
    "# It seems unlikely that the passenger's name,\n",
    "# ticket number, or port of embarkation would\n",
    "# correlate with their survival. Drop these features.\n",
    "x_train.drop('Name', axis='columns', inplace=True)\n",
    "x_train.drop('Ticket', axis='columns', inplace=True)\n",
    "x_train.drop('Embarked', axis='columns', inplace=True)"
   ]
  },
  {
   "cell_type": "code",
   "execution_count": 11,
   "metadata": {
    "collapsed": true
   },
   "outputs": [],
   "source": [
    "# Retrieve the categorical column labels.\n",
    "categorical_features = x_train.select_dtypes(include=['object']).columns.tolist()\n",
    "\n",
    "# Encode all categorical features.\n",
    "encoded_label_groups = encode(x_train)\n",
    "features_and_encoded_labels = list(zip(categorical_features, encoded_label_groups))"
   ]
  },
  {
   "cell_type": "code",
   "execution_count": 12,
   "metadata": {},
   "outputs": [
    {
     "name": "stdout",
     "output_type": "stream",
     "text": [
      "\n",
      "0 int-type columns with NaN values.\n",
      "\n",
      "0 float-type columns with NaN values.\n",
      "\n",
      "0 string-type columns with NaN values.\n"
     ]
    },
    {
     "data": {
      "text/html": [
       "<div>\n",
       "<style scoped>\n",
       "    .dataframe tbody tr th:only-of-type {\n",
       "        vertical-align: middle;\n",
       "    }\n",
       "\n",
       "    .dataframe tbody tr th {\n",
       "        vertical-align: top;\n",
       "    }\n",
       "\n",
       "    .dataframe thead th {\n",
       "        text-align: right;\n",
       "    }\n",
       "</style>\n",
       "<table border=\"1\" class=\"dataframe\">\n",
       "  <thead>\n",
       "    <tr style=\"text-align: right;\">\n",
       "      <th></th>\n",
       "      <th>Pclass</th>\n",
       "      <th>Sex</th>\n",
       "      <th>Age</th>\n",
       "      <th>SibSp</th>\n",
       "      <th>Parch</th>\n",
       "      <th>Fare</th>\n",
       "    </tr>\n",
       "    <tr>\n",
       "      <th>PassengerId</th>\n",
       "      <th></th>\n",
       "      <th></th>\n",
       "      <th></th>\n",
       "      <th></th>\n",
       "      <th></th>\n",
       "      <th></th>\n",
       "    </tr>\n",
       "  </thead>\n",
       "  <tbody>\n",
       "    <tr>\n",
       "      <th>1</th>\n",
       "      <td>3</td>\n",
       "      <td>1</td>\n",
       "      <td>22.0</td>\n",
       "      <td>1</td>\n",
       "      <td>0</td>\n",
       "      <td>7.2500</td>\n",
       "    </tr>\n",
       "    <tr>\n",
       "      <th>2</th>\n",
       "      <td>1</td>\n",
       "      <td>0</td>\n",
       "      <td>38.0</td>\n",
       "      <td>1</td>\n",
       "      <td>0</td>\n",
       "      <td>71.2833</td>\n",
       "    </tr>\n",
       "    <tr>\n",
       "      <th>3</th>\n",
       "      <td>3</td>\n",
       "      <td>0</td>\n",
       "      <td>26.0</td>\n",
       "      <td>0</td>\n",
       "      <td>0</td>\n",
       "      <td>7.9250</td>\n",
       "    </tr>\n",
       "    <tr>\n",
       "      <th>4</th>\n",
       "      <td>1</td>\n",
       "      <td>0</td>\n",
       "      <td>35.0</td>\n",
       "      <td>1</td>\n",
       "      <td>0</td>\n",
       "      <td>53.1000</td>\n",
       "    </tr>\n",
       "    <tr>\n",
       "      <th>5</th>\n",
       "      <td>3</td>\n",
       "      <td>1</td>\n",
       "      <td>35.0</td>\n",
       "      <td>0</td>\n",
       "      <td>0</td>\n",
       "      <td>8.0500</td>\n",
       "    </tr>\n",
       "  </tbody>\n",
       "</table>\n",
       "</div>"
      ],
      "text/plain": [
       "             Pclass  Sex   Age  SibSp  Parch     Fare\n",
       "PassengerId                                          \n",
       "1                 3    1  22.0      1      0   7.2500\n",
       "2                 1    0  38.0      1      0  71.2833\n",
       "3                 3    0  26.0      0      0   7.9250\n",
       "4                 1    0  35.0      1      0  53.1000\n",
       "5                 3    1  35.0      0      0   8.0500"
      ]
     },
     "execution_count": 12,
     "metadata": {},
     "output_type": "execute_result"
    }
   ],
   "source": [
    "# At this point, the DataFrame should be free of\n",
    "# missing values.\n",
    "nan_int_cols = gather_nan(x_train, \"int\")\n",
    "nan_float_cols = gather_nan(x_train, \"float\")\n",
    "nan_string_cols = gather_nan(x_train, \"string\")\n",
    "x_train.head()"
   ]
  },
  {
   "cell_type": "code",
   "execution_count": 13,
   "metadata": {},
   "outputs": [
    {
     "data": {
      "image/png": "[encoded data removed]",
      "text/plain": [
       "<matplotlib.figure.Figure at 0x7f5e529048d0>"
      ]
     },
     "metadata": {},
     "output_type": "display_data"
    },
    {
     "data": {
      "image/png": "[encoded data removed]",
      "text/plain": [
       "<matplotlib.figure.Figure at 0x7f5e4b617f28>"
      ]
     },
     "metadata": {},
     "output_type": "display_data"
    },
    {
     "data": {
      "image/png": "[encoded data removed]",
      "text/plain": [
       "<matplotlib.figure.Figure at 0x7f5e4a9b7b00>"
      ]
     },
     "metadata": {},
     "output_type": "display_data"
    }
   ],
   "source": [
    "# Plot the survival rate as a function of other features - class\n",
    "# (\"Pclass\"), age, and fare - along with a 98% confidence interval\n",
    "# to get an idea of how various features influence survival.\n",
    "\n",
    "sns.regplot(x=x_train[\"Pclass\"], y=y_train, n_boot=100,\n",
    "    logistic=True, ci=98, color='red', x_estimator=np.mean)\n",
    "plt.show()\n",
    "\n",
    "sns.regplot(x=x_train[\"Age\"], y=y_train, n_boot=100,\n",
    "    logistic=True, ci=98, color='green')\n",
    "plt.show()\n",
    "\n",
    "sns.regplot(x=x_train[\"Fare\"], y=y_train, n_boot=100,\n",
    "    logistic=True, ci=98, color='blue')\n",
    "plt.show()"
   ]
  },
  {
   "cell_type": "markdown",
   "metadata": {},
   "source": [
    "# Perform hyperparameter tuning for a logistic regression model."
   ]
  },
  {
   "cell_type": "code",
   "execution_count": 14,
   "metadata": {
    "collapsed": true
   },
   "outputs": [],
   "source": [
    "estimator = linear_model.LogisticRegression(random_state=MAGIC_SEED)"
   ]
  },
  {
   "cell_type": "markdown",
   "metadata": {},
   "source": [
    "## Method #1: Grid Search w/ Cross-Validation"
   ]
  },
  {
   "cell_type": "code",
   "execution_count": 15,
   "metadata": {},
   "outputs": [
    {
     "name": "stdout",
     "output_type": "stream",
     "text": [
      "When using 90.0% of the training data to perform the fit and 10.0% of the training data to make the prediction, the model performed according to the following:\n",
      "[ 0.7826087  0.7875     0.81875    0.80625    0.7875   ]\n",
      "RMS Error: 0.435\n",
      "Variance score: 0.238\n"
     ]
    },
    {
     "data": {
      "image/png": "[encoded data removed]",
      "text/plain": [
       "<matplotlib.figure.Figure at 0x7f5e4b70b940>"
      ]
     },
     "metadata": {},
     "output_type": "display_data"
    },
    {
     "name": "stdout",
     "output_type": "stream",
     "text": [
      "The best parameters are:\n",
      "{'C': 0.25, 'fit_intercept': True, 'penalty': 'l2', 'tol': 0.0001}\n",
      "with a score of 0.792\n"
     ]
    }
   ],
   "source": [
    "parameter_grid = {\n",
    "    \"penalty\": ['l1', 'l2'],\n",
    "    \"tol\": [1e-4, 1e-5, 1e-6],\n",
    "    \"C\": [0.25, 0.5, 0.75, 1.0],\n",
    "    \"fit_intercept\": [True, False]\n",
    "}\n",
    "model = GridSearchCV(estimator, cv=5, return_train_score=True,\n",
    "    param_grid=parameter_grid)\n",
    "evaluate_model(x_train, y_train, model)\n",
    "print(\"The best parameters are:\")\n",
    "print(model.best_params_)\n",
    "print(\"with a score of %.3f\" % model.best_score_)\n",
    "\n",
    "# Save the model for later usage.\n",
    "prediction_model = model"
   ]
  },
  {
   "cell_type": "markdown",
   "metadata": {},
   "source": [
    "## Method #2: Randomized Search w/ Cross-Validation"
   ]
  },
  {
   "cell_type": "code",
   "execution_count": 16,
   "metadata": {},
   "outputs": [
    {
     "name": "stdout",
     "output_type": "stream",
     "text": [
      "When using 90.0% of the training data to perform the fit and 10.0% of the training data to make the prediction, the model performed according to the following:\n",
      "[ 0.78881988  0.78125     0.81875     0.80625     0.7875    ]\n",
      "RMS Error: 0.435\n",
      "Variance score: 0.238\n"
     ]
    },
    {
     "data": {
      "image/png": "[encoded data removed]",
      "text/plain": [
       "<matplotlib.figure.Figure at 0x7f5e4a9045c0>"
      ]
     },
     "metadata": {},
     "output_type": "display_data"
    },
    {
     "name": "stdout",
     "output_type": "stream",
     "text": [
      "The best parameters are:\n",
      "{'tol': 3.5999999999999994e-05, 'penalty': 'l2', 'fit_intercept': True, 'C': 0.13}\n",
      "with a score of 0.790\n"
     ]
    }
   ],
   "source": [
    "num_iterations = 25\n",
    "parameter_distributions = {\n",
    "    \"penalty\": ['l1', 'l2'],\n",
    "    \"tol\": np.arange(1e-6, 1e-4, 1e-6),\n",
    "    \"C\": np.arange(0.1, 1.0, 0.01),\n",
    "    \"fit_intercept\": [True, False]\n",
    "} \n",
    "    \n",
    "model = RandomizedSearchCV(estimator, cv=5, return_train_score=True,\n",
    "    param_distributions=parameter_distributions, n_iter=num_iterations, \n",
    "    random_state=MAGIC_SEED)\n",
    "evaluate_model(x_train, y_train, model)\n",
    "print(\"The best parameters are:\")\n",
    "print(model.best_params_)\n",
    "print(\"with a score of %.3f\" % model.best_score_)"
   ]
  },
  {
   "cell_type": "markdown",
   "metadata": {},
   "source": [
    "### The grid and randomized searched seem to return similar results, so arbitrarily use the grid search parameters to make predictions for the passenger data."
   ]
  },
  {
   "cell_type": "markdown",
   "metadata": {},
   "source": [
    "# Load and preview the passenger test data."
   ]
  },
  {
   "cell_type": "code",
   "execution_count": 17,
   "metadata": {},
   "outputs": [
    {
     "name": "stdout",
     "output_type": "stream",
     "text": [
      "Loaded data dimensions:  418 rows,  10 columns\n"
     ]
    },
    {
     "data": {
      "text/html": [
       "<div>\n",
       "<style scoped>\n",
       "    .dataframe tbody tr th:only-of-type {\n",
       "        vertical-align: middle;\n",
       "    }\n",
       "\n",
       "    .dataframe tbody tr th {\n",
       "        vertical-align: top;\n",
       "    }\n",
       "\n",
       "    .dataframe thead th {\n",
       "        text-align: right;\n",
       "    }\n",
       "</style>\n",
       "<table border=\"1\" class=\"dataframe\">\n",
       "  <thead>\n",
       "    <tr style=\"text-align: right;\">\n",
       "      <th></th>\n",
       "      <th>Pclass</th>\n",
       "      <th>Name</th>\n",
       "      <th>Sex</th>\n",
       "      <th>Age</th>\n",
       "      <th>SibSp</th>\n",
       "      <th>Parch</th>\n",
       "      <th>Ticket</th>\n",
       "      <th>Fare</th>\n",
       "      <th>Cabin</th>\n",
       "      <th>Embarked</th>\n",
       "    </tr>\n",
       "    <tr>\n",
       "      <th>PassengerId</th>\n",
       "      <th></th>\n",
       "      <th></th>\n",
       "      <th></th>\n",
       "      <th></th>\n",
       "      <th></th>\n",
       "      <th></th>\n",
       "      <th></th>\n",
       "      <th></th>\n",
       "      <th></th>\n",
       "      <th></th>\n",
       "    </tr>\n",
       "  </thead>\n",
       "  <tbody>\n",
       "    <tr>\n",
       "      <th>892</th>\n",
       "      <td>3</td>\n",
       "      <td>Kelly, Mr. James</td>\n",
       "      <td>male</td>\n",
       "      <td>34.5</td>\n",
       "      <td>0</td>\n",
       "      <td>0</td>\n",
       "      <td>330911</td>\n",
       "      <td>7.8292</td>\n",
       "      <td>NaN</td>\n",
       "      <td>Q</td>\n",
       "    </tr>\n",
       "    <tr>\n",
       "      <th>893</th>\n",
       "      <td>3</td>\n",
       "      <td>Wilkes, Mrs. James (Ellen Needs)</td>\n",
       "      <td>female</td>\n",
       "      <td>47.0</td>\n",
       "      <td>1</td>\n",
       "      <td>0</td>\n",
       "      <td>363272</td>\n",
       "      <td>7.0000</td>\n",
       "      <td>NaN</td>\n",
       "      <td>S</td>\n",
       "    </tr>\n",
       "    <tr>\n",
       "      <th>894</th>\n",
       "      <td>2</td>\n",
       "      <td>Myles, Mr. Thomas Francis</td>\n",
       "      <td>male</td>\n",
       "      <td>62.0</td>\n",
       "      <td>0</td>\n",
       "      <td>0</td>\n",
       "      <td>240276</td>\n",
       "      <td>9.6875</td>\n",
       "      <td>NaN</td>\n",
       "      <td>Q</td>\n",
       "    </tr>\n",
       "    <tr>\n",
       "      <th>895</th>\n",
       "      <td>3</td>\n",
       "      <td>Wirz, Mr. Albert</td>\n",
       "      <td>male</td>\n",
       "      <td>27.0</td>\n",
       "      <td>0</td>\n",
       "      <td>0</td>\n",
       "      <td>315154</td>\n",
       "      <td>8.6625</td>\n",
       "      <td>NaN</td>\n",
       "      <td>S</td>\n",
       "    </tr>\n",
       "    <tr>\n",
       "      <th>896</th>\n",
       "      <td>3</td>\n",
       "      <td>Hirvonen, Mrs. Alexander (Helga E Lindqvist)</td>\n",
       "      <td>female</td>\n",
       "      <td>22.0</td>\n",
       "      <td>1</td>\n",
       "      <td>1</td>\n",
       "      <td>3101298</td>\n",
       "      <td>12.2875</td>\n",
       "      <td>NaN</td>\n",
       "      <td>S</td>\n",
       "    </tr>\n",
       "  </tbody>\n",
       "</table>\n",
       "</div>"
      ],
      "text/plain": [
       "             Pclass                                          Name     Sex  \\\n",
       "PassengerId                                                                 \n",
       "892               3                              Kelly, Mr. James    male   \n",
       "893               3              Wilkes, Mrs. James (Ellen Needs)  female   \n",
       "894               2                     Myles, Mr. Thomas Francis    male   \n",
       "895               3                              Wirz, Mr. Albert    male   \n",
       "896               3  Hirvonen, Mrs. Alexander (Helga E Lindqvist)  female   \n",
       "\n",
       "              Age  SibSp  Parch   Ticket     Fare Cabin Embarked  \n",
       "PassengerId                                                       \n",
       "892          34.5      0      0   330911   7.8292   NaN        Q  \n",
       "893          47.0      1      0   363272   7.0000   NaN        S  \n",
       "894          62.0      0      0   240276   9.6875   NaN        Q  \n",
       "895          27.0      0      0   315154   8.6625   NaN        S  \n",
       "896          22.0      1      1  3101298  12.2875   NaN        S  "
      ]
     },
     "execution_count": 17,
     "metadata": {},
     "output_type": "execute_result"
    }
   ],
   "source": [
    "df = load_data(TEST_DATA_PATH, \"PassengerId\")\n",
    "df.head()"
   ]
  },
  {
   "cell_type": "code",
   "execution_count": 18,
   "metadata": {
    "scrolled": true
   },
   "outputs": [
    {
     "data": {
      "text/html": [
       "<div>\n",
       "<style scoped>\n",
       "    .dataframe tbody tr th:only-of-type {\n",
       "        vertical-align: middle;\n",
       "    }\n",
       "\n",
       "    .dataframe tbody tr th {\n",
       "        vertical-align: top;\n",
       "    }\n",
       "\n",
       "    .dataframe thead th {\n",
       "        text-align: right;\n",
       "    }\n",
       "</style>\n",
       "<table border=\"1\" class=\"dataframe\">\n",
       "  <thead>\n",
       "    <tr style=\"text-align: right;\">\n",
       "      <th></th>\n",
       "      <th>Pclass</th>\n",
       "      <th>Age</th>\n",
       "      <th>SibSp</th>\n",
       "      <th>Parch</th>\n",
       "      <th>Fare</th>\n",
       "    </tr>\n",
       "  </thead>\n",
       "  <tbody>\n",
       "    <tr>\n",
       "      <th>count</th>\n",
       "      <td>418.000000</td>\n",
       "      <td>332.000000</td>\n",
       "      <td>418.000000</td>\n",
       "      <td>418.000000</td>\n",
       "      <td>417.000000</td>\n",
       "    </tr>\n",
       "    <tr>\n",
       "      <th>mean</th>\n",
       "      <td>2.265550</td>\n",
       "      <td>30.272590</td>\n",
       "      <td>0.447368</td>\n",
       "      <td>0.392344</td>\n",
       "      <td>35.627188</td>\n",
       "    </tr>\n",
       "    <tr>\n",
       "      <th>std</th>\n",
       "      <td>0.841838</td>\n",
       "      <td>14.181209</td>\n",
       "      <td>0.896760</td>\n",
       "      <td>0.981429</td>\n",
       "      <td>55.907576</td>\n",
       "    </tr>\n",
       "    <tr>\n",
       "      <th>min</th>\n",
       "      <td>1.000000</td>\n",
       "      <td>0.170000</td>\n",
       "      <td>0.000000</td>\n",
       "      <td>0.000000</td>\n",
       "      <td>0.000000</td>\n",
       "    </tr>\n",
       "    <tr>\n",
       "      <th>25%</th>\n",
       "      <td>1.000000</td>\n",
       "      <td>21.000000</td>\n",
       "      <td>0.000000</td>\n",
       "      <td>0.000000</td>\n",
       "      <td>7.895800</td>\n",
       "    </tr>\n",
       "    <tr>\n",
       "      <th>50%</th>\n",
       "      <td>3.000000</td>\n",
       "      <td>27.000000</td>\n",
       "      <td>0.000000</td>\n",
       "      <td>0.000000</td>\n",
       "      <td>14.454200</td>\n",
       "    </tr>\n",
       "    <tr>\n",
       "      <th>75%</th>\n",
       "      <td>3.000000</td>\n",
       "      <td>39.000000</td>\n",
       "      <td>1.000000</td>\n",
       "      <td>0.000000</td>\n",
       "      <td>31.500000</td>\n",
       "    </tr>\n",
       "    <tr>\n",
       "      <th>max</th>\n",
       "      <td>3.000000</td>\n",
       "      <td>76.000000</td>\n",
       "      <td>8.000000</td>\n",
       "      <td>9.000000</td>\n",
       "      <td>512.329200</td>\n",
       "    </tr>\n",
       "  </tbody>\n",
       "</table>\n",
       "</div>"
      ],
      "text/plain": [
       "           Pclass         Age       SibSp       Parch        Fare\n",
       "count  418.000000  332.000000  418.000000  418.000000  417.000000\n",
       "mean     2.265550   30.272590    0.447368    0.392344   35.627188\n",
       "std      0.841838   14.181209    0.896760    0.981429   55.907576\n",
       "min      1.000000    0.170000    0.000000    0.000000    0.000000\n",
       "25%      1.000000   21.000000    0.000000    0.000000    7.895800\n",
       "50%      3.000000   27.000000    0.000000    0.000000   14.454200\n",
       "75%      3.000000   39.000000    1.000000    0.000000   31.500000\n",
       "max      3.000000   76.000000    8.000000    9.000000  512.329200"
      ]
     },
     "execution_count": 18,
     "metadata": {},
     "output_type": "execute_result"
    }
   ],
   "source": [
    "df.describe()"
   ]
  },
  {
   "cell_type": "markdown",
   "metadata": {},
   "source": [
    "# Clean and process the test data."
   ]
  },
  {
   "cell_type": "code",
   "execution_count": 19,
   "metadata": {
    "scrolled": true
   },
   "outputs": [
    {
     "name": "stdout",
     "output_type": "stream",
     "text": [
      "\n",
      "0 int-type columns with NaN values.\n",
      "\n",
      "2 float-type columns with NaN values.\n",
      "    Feature         NaN Count\n",
      "    ---------------------\n",
      " 1. Age             86\n",
      " 2. Fare            1\n",
      "\n",
      "1 string-type columns with NaN values.\n",
      "    Feature         NaN Count\n",
      "    ---------------------\n",
      " 1. Cabin           327\n"
     ]
    }
   ],
   "source": [
    "# Since the test data only includes features,\n",
    "# it is exclusively X-data.\n",
    "x_test = df\n",
    "\n",
    "# Determine which features have missing values.\n",
    "nan_int_cols = gather_nan(x_test, \"int\")\n",
    "nan_float_cols = gather_nan(x_test, \"float\")\n",
    "nan_string_cols = gather_nan(x_test, \"string\")"
   ]
  },
  {
   "cell_type": "code",
   "execution_count": 20,
   "metadata": {
    "scrolled": true
   },
   "outputs": [
    {
     "data": {
      "image/png": "[encoded data removed]",
      "text/plain": [
       "<matplotlib.figure.Figure at 0x7f5e4a830f60>"
      ]
     },
     "metadata": {},
     "output_type": "display_data"
    }
   ],
   "source": [
    "# First, determine how the Age data is distributed.\n",
    "x_age = x_test['Age'].dropna().tolist()\n",
    "mu_age = np.mean(x_age)\n",
    "sigma_age = np.std(x_age)\n",
    "\n",
    "# Generate age samples using the age data's\n",
    "# average and standard deviation. Graphically\n",
    "# compare the real and fabricated data (normalized\n",
    "# for easy comparison).\n",
    "x_age_generated = np.random.normal(mu_age, sigma_age, len(x_age))\n",
    "\n",
    "# Set all ages below zero to zero.\n",
    "x_age_generated[(x_age_generated <= 0)] = 0\n",
    "plt.hist(x_age, bins=20, color='red', normed=0)\n",
    "plt.hist(x_age_generated, bins=20, histtype='step', color='black', normed=0)\n",
    "plt.xlabel(\"Age\")\n",
    "plt.ylabel(\"Frequency\")\n",
    "plt.legend((\"True Age Data\", \"Generated Age Data\"))\n",
    "plt.show()"
   ]
  },
  {
   "cell_type": "markdown",
   "metadata": {},
   "source": [
    "### Visually, the data distributions appear only mildly resemblant. Directly test whether the age data is normal by testing the similarity between the true and fabricated data distributions."
   ]
  },
  {
   "cell_type": "code",
   "execution_count": 21,
   "metadata": {},
   "outputs": [
    {
     "data": {
      "text/plain": [
       "Ks_2sampResult(statistic=0.099397590361445798, pvalue=0.07045426846592423)"
      ]
     },
     "execution_count": 21,
     "metadata": {},
     "output_type": "execute_result"
    }
   ],
   "source": [
    "# Test whether these data sets have similar\n",
    "# distributions using the Kolmogorov-Smirnov\n",
    "# test. A large p-value (e.g. > 0.05) indicates\n",
    "# that the distributions are similar enough to\n",
    "# warrant considering them the same.\n",
    "stats.ks_2samp(x_age, x_age_generated)"
   ]
  },
  {
   "cell_type": "markdown",
   "metadata": {},
   "source": [
    "### For most randomized tests, the Klmogorov-Smirnov test tends to indicate that the age data is not normally distributed. However, as a first approximation, assume the age data is normally distributed and replace all NaN values with values randomly selected from a normal distribution with the same mean and standard deviation as the non-NaN value data."
   ]
  },
  {
   "cell_type": "code",
   "execution_count": 22,
   "metadata": {},
   "outputs": [],
   "source": [
    "# Contrary to the above K-S test, as an approximation, assume\n",
    "# the age data is normally distributed and replace all NaN\n",
    "# values with values randomly selected from a normal\n",
    "# distribution with the same mean and standard deviation\n",
    "# as the non-NaN value data.\n",
    "replace_with_normal(x_test, 'Age', MAGIC_SEED)\n",
    "\n",
    "# Set all ages below zero to zero (a consequence of choosing\n",
    "# ages from a normal distribution).\n",
    "x_test.loc[x_test['Age'] < 0, 'Age'] = 0.0\n",
    "\n",
    "# Replace the single NaN Fare to the median value.\n",
    "x_test.loc[:,'Fare'] = preprocessing.Imputer(strategy='median').fit_transform(df['Fare'].values.reshape(-1,1))"
   ]
  },
  {
   "cell_type": "code",
   "execution_count": 23,
   "metadata": {},
   "outputs": [
    {
     "name": "stdout",
     "output_type": "stream",
     "text": [
      "Out of 418 instances, 327 have missing Cabin information; dropping this feature.\n"
     ]
    }
   ],
   "source": [
    "# Since the 'Cabin' feature is very sparse and since\n",
    "# it was dropped in the training data), drop this feature.\n",
    "print(\"Out of %d instances, %d have missing Cabin information; dropping this feature.\"\n",
    "      % (df.shape[0], sum(x_test['Cabin'].isna())))\n",
    "x_test.drop('Cabin', axis='columns', inplace=True)"
   ]
  },
  {
   "cell_type": "code",
   "execution_count": 24,
   "metadata": {
    "collapsed": true
   },
   "outputs": [],
   "source": [
    "# It seems unlikely that the passenger's name,\n",
    "# ticket number, or port of embarkation would\n",
    "# correlate with their survival. These features\n",
    "# were dropped in the training data, so drop them\n",
    "# here, as well.\n",
    "x_test.drop('Name', axis='columns', inplace=True)\n",
    "x_test.drop('Ticket', axis='columns', inplace=True)\n",
    "x_test.drop('Embarked', axis='columns', inplace=True)"
   ]
  },
  {
   "cell_type": "code",
   "execution_count": 25,
   "metadata": {
    "collapsed": true
   },
   "outputs": [],
   "source": [
    "# Retrieve the categorical column labels.\n",
    "categorical_features = x_test.select_dtypes(include=['object']).columns.tolist()\n",
    "\n",
    "# Encode all categorical features.\n",
    "encoded_label_groups = encode(x_test)\n",
    "features_and_encoded_labels = list(zip(categorical_features, encoded_label_groups))"
   ]
  },
  {
   "cell_type": "code",
   "execution_count": 26,
   "metadata": {},
   "outputs": [
    {
     "name": "stdout",
     "output_type": "stream",
     "text": [
      "\n",
      "0 int-type columns with NaN values.\n",
      "\n",
      "0 float-type columns with NaN values.\n",
      "\n",
      "0 string-type columns with NaN values.\n"
     ]
    },
    {
     "data": {
      "text/html": [
       "<div>\n",
       "<style scoped>\n",
       "    .dataframe tbody tr th:only-of-type {\n",
       "        vertical-align: middle;\n",
       "    }\n",
       "\n",
       "    .dataframe tbody tr th {\n",
       "        vertical-align: top;\n",
       "    }\n",
       "\n",
       "    .dataframe thead th {\n",
       "        text-align: right;\n",
       "    }\n",
       "</style>\n",
       "<table border=\"1\" class=\"dataframe\">\n",
       "  <thead>\n",
       "    <tr style=\"text-align: right;\">\n",
       "      <th></th>\n",
       "      <th>Pclass</th>\n",
       "      <th>Sex</th>\n",
       "      <th>Age</th>\n",
       "      <th>SibSp</th>\n",
       "      <th>Parch</th>\n",
       "      <th>Fare</th>\n",
       "    </tr>\n",
       "    <tr>\n",
       "      <th>PassengerId</th>\n",
       "      <th></th>\n",
       "      <th></th>\n",
       "      <th></th>\n",
       "      <th></th>\n",
       "      <th></th>\n",
       "      <th></th>\n",
       "    </tr>\n",
       "  </thead>\n",
       "  <tbody>\n",
       "    <tr>\n",
       "      <th>892</th>\n",
       "      <td>3</td>\n",
       "      <td>1</td>\n",
       "      <td>34.5</td>\n",
       "      <td>0</td>\n",
       "      <td>0</td>\n",
       "      <td>7.8292</td>\n",
       "    </tr>\n",
       "    <tr>\n",
       "      <th>893</th>\n",
       "      <td>3</td>\n",
       "      <td>0</td>\n",
       "      <td>47.0</td>\n",
       "      <td>1</td>\n",
       "      <td>0</td>\n",
       "      <td>7.0000</td>\n",
       "    </tr>\n",
       "    <tr>\n",
       "      <th>894</th>\n",
       "      <td>2</td>\n",
       "      <td>1</td>\n",
       "      <td>62.0</td>\n",
       "      <td>0</td>\n",
       "      <td>0</td>\n",
       "      <td>9.6875</td>\n",
       "    </tr>\n",
       "    <tr>\n",
       "      <th>895</th>\n",
       "      <td>3</td>\n",
       "      <td>1</td>\n",
       "      <td>27.0</td>\n",
       "      <td>0</td>\n",
       "      <td>0</td>\n",
       "      <td>8.6625</td>\n",
       "    </tr>\n",
       "    <tr>\n",
       "      <th>896</th>\n",
       "      <td>3</td>\n",
       "      <td>0</td>\n",
       "      <td>22.0</td>\n",
       "      <td>1</td>\n",
       "      <td>1</td>\n",
       "      <td>12.2875</td>\n",
       "    </tr>\n",
       "  </tbody>\n",
       "</table>\n",
       "</div>"
      ],
      "text/plain": [
       "             Pclass  Sex   Age  SibSp  Parch     Fare\n",
       "PassengerId                                          \n",
       "892               3    1  34.5      0      0   7.8292\n",
       "893               3    0  47.0      1      0   7.0000\n",
       "894               2    1  62.0      0      0   9.6875\n",
       "895               3    1  27.0      0      0   8.6625\n",
       "896               3    0  22.0      1      1  12.2875"
      ]
     },
     "execution_count": 26,
     "metadata": {},
     "output_type": "execute_result"
    }
   ],
   "source": [
    "# At this point, the DataFrame should be free of\n",
    "# missing values.\n",
    "nan_int_cols = gather_nan(x_test, \"int\")\n",
    "nan_float_cols = gather_nan(x_test, \"float\")\n",
    "nan_string_cols = gather_nan(x_test, \"string\")\n",
    "x_test.head()"
   ]
  },
  {
   "cell_type": "markdown",
   "metadata": {},
   "source": [
    "# Use prediction_model to predict y_test."
   ]
  },
  {
   "cell_type": "code",
   "execution_count": 27,
   "metadata": {},
   "outputs": [
    {
     "data": {
      "text/html": [
       "<div>\n",
       "<style scoped>\n",
       "    .dataframe tbody tr th:only-of-type {\n",
       "        vertical-align: middle;\n",
       "    }\n",
       "\n",
       "    .dataframe tbody tr th {\n",
       "        vertical-align: top;\n",
       "    }\n",
       "\n",
       "    .dataframe thead th {\n",
       "        text-align: right;\n",
       "    }\n",
       "</style>\n",
       "<table border=\"1\" class=\"dataframe\">\n",
       "  <thead>\n",
       "    <tr style=\"text-align: right;\">\n",
       "      <th></th>\n",
       "      <th>Survived</th>\n",
       "    </tr>\n",
       "    <tr>\n",
       "      <th>PassengerId</th>\n",
       "      <th></th>\n",
       "    </tr>\n",
       "  </thead>\n",
       "  <tbody>\n",
       "    <tr>\n",
       "      <th>892</th>\n",
       "      <td>0</td>\n",
       "    </tr>\n",
       "    <tr>\n",
       "      <th>893</th>\n",
       "      <td>0</td>\n",
       "    </tr>\n",
       "    <tr>\n",
       "      <th>894</th>\n",
       "      <td>0</td>\n",
       "    </tr>\n",
       "    <tr>\n",
       "      <th>895</th>\n",
       "      <td>0</td>\n",
       "    </tr>\n",
       "    <tr>\n",
       "      <th>896</th>\n",
       "      <td>1</td>\n",
       "    </tr>\n",
       "  </tbody>\n",
       "</table>\n",
       "</div>"
      ],
      "text/plain": [
       "             Survived\n",
       "PassengerId          \n",
       "892                 0\n",
       "893                 0\n",
       "894                 0\n",
       "895                 0\n",
       "896                 1"
      ]
     },
     "execution_count": 27,
     "metadata": {},
     "output_type": "execute_result"
    }
   ],
   "source": [
    "# Generate the predicted house prices.\n",
    "y_test_pred = prediction_model.predict(x_test)\n",
    "\n",
    "# Convert y_test_pred to a DataFrame\n",
    "# with indices and a column label consistent\n",
    "# with the submission criteria as demonstrated\n",
    "# in the sample submission .csv file.\n",
    "y_test_pred_df = pd.DataFrame(y_test_pred, index=x_test.index, columns=['Survived'])\n",
    "\n",
    "# Ensure the DataFrame appears to be\n",
    "# properly arranged.\n",
    "y_test_pred_df.head()"
   ]
  },
  {
   "cell_type": "code",
   "execution_count": 28,
   "metadata": {
    "collapsed": true
   },
   "outputs": [],
   "source": [
    "# Write the DataFrame to a .csv file.\n",
    "if (save_predicted_data):\n",
    "    y_test_pred_df.to_csv(MY_PREDICTED_DATA_PATH)"
   ]
  }
 ],
 "metadata": {
  "kernelspec": {
   "display_name": "Python 3",
   "language": "python",
   "name": "python3"
  },
  "language_info": {
   "codemirror_mode": {
    "name": "ipython",
    "version": 3
   },
   "file_extension": ".py",
   "mimetype": "text/x-python",
   "name": "python",
   "nbconvert_exporter": "python",
   "pygments_lexer": "ipython3",
   "version": "3.6.3"
  }
 },
 "nbformat": 4,
 "nbformat_minor": 2
}
